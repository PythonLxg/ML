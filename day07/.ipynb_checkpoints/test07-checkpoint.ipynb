{
 "cells": [
  {
   "cell_type": "code",
   "execution_count": 5,
   "metadata": {},
   "outputs": [
    {
     "name": "stdout",
     "output_type": "stream",
     "text": [
      "Test set score:0.9510\n"
     ]
    }
   ],
   "source": [
    "from sklearn.svm import SVC\n",
    "import matplotlib.pyplot as plt\n",
    "import numpy as np\n",
    "import pandas as pd\n",
    "from sklearn.datasets import load_breast_cancer\n",
    "from sklearn.model_selection import train_test_split\n",
    "from sklearn.model_selection import GridSearchCV\n",
    "from sklearn.preprocessing import MinMaxScaler\n",
    "\n",
    "cancer = load_breast_cancer()\n",
    "X_train, X_test, y_train, y_test = train_test_split(cancer.data, cancer.target, random_state=0)\n",
    "scaler = MinMaxScaler().fit(X_train)\n",
    "X_train_scaled = scaler.transform(X_train)\n",
    "X_test_scaled = scaler.transform(X_test)\n",
    "\n",
    "svm = SVC().fit(X_train_scaled, y_train)\n",
    "print('Test set score:{:.4f}'.format(svm.score(X_test_scaled, y_test)))"
   ]
  },
  {
   "cell_type": "code",
   "execution_count": 7,
   "metadata": {},
   "outputs": [
    {
     "name": "stdout",
     "output_type": "stream",
     "text": [
      "Test set score:0.9510\n"
     ]
    }
   ],
   "source": [
    "# Pipline类本身具有fit，predict和score方法\n",
    "from sklearn.pipeline import Pipeline\n",
    "\n",
    "pipe = Pipeline([('scaler', MinMaxScaler()),('svm', SVC())])  # pipe包含数据缩放和分类器\n",
    "pipe.fit(X_train, y_train)  # 依次对每一个步骤调用fit和transform\n",
    "print('Test set score:{:.4f}'.format(pipe.score(X_test, y_test)))"
   ]
  },
  {
   "cell_type": "code",
   "execution_count": 10,
   "metadata": {},
   "outputs": [
    {
     "name": "stdout",
     "output_type": "stream",
     "text": [
      "best score:0.9812\n",
      "test set score:0.9720\n",
      "best parameters:{'svm__C': 1, 'svm__gamma': 1}\n"
     ]
    }
   ],
   "source": [
    "# 可以在pipeline中使用GridSearchCV或cross_val_score\n",
    "param_grid = {'svm__C': [0.001, 0.01, 0.1, 1, 10, 100],  # SVC的参数C和gamma以双下划线连接\n",
    "              'svm__gamma': [0.001, 0.01, 0.1, 1, 10, 100]}\n",
    "\n",
    "grid = GridSearchCV(pipe, param_grid, cv=5)\n",
    "grid.fit(X_train, y_train)\n",
    "print('best score:{:.4f}'.format(grid.best_score_))\n",
    "print('test set score:{:.4f}'.format(grid.score(X_test, y_test)))\n",
    "print('best parameters:{}'.format(grid.best_params_))"
   ]
  },
  {
   "cell_type": "code",
   "execution_count": 11,
   "metadata": {},
   "outputs": [],
   "source": [
    "# 通用的管道接口。pipe可以包含特征提取，特征选择，数据缩放和分类器，最后一步也可以用回归或聚类代替分类\n",
    "def fit(self, X, y):\n",
    "    X_transformed = X\n",
    "    for name, estimator in self.steps[:-1]:\n",
    "        # 遍历除最后一步之外的所有步骤\n",
    "        # 对数据进行拟合和变换\n",
    "        X_transformed = X_transformed.fit_transform(X_transformed, y)\n",
    "    # 对最后一步进行拟合\n",
    "    self.steps[-1][1].fit(X_tranformed, y)\n",
    "    return self\n",
    "\n",
    "def predict(self, X):\n",
    "    X_transformed = X\n",
    "    for step in steps[:-1]:\n",
    "        # 遍历除最后一步之外的所有步骤\n",
    "        # 对数据进行变换\n",
    "        X_transformed = step[1].transform(X_transformed)\n",
    "    # 对最后一步进行测试\n",
    "    return self.steps[-1][1].predict(X_transformed)"
   ]
  },
  {
   "cell_type": "code",
   "execution_count": 14,
   "metadata": {},
   "outputs": [
    {
     "name": "stdout",
     "output_type": "stream",
     "text": [
      "pipeline steps:\n",
      "[('minmaxscaler', MinMaxScaler(copy=True, feature_range=(0, 1))), ('svc', SVC(C=100, cache_size=200, class_weight=None, coef0=0.0,\n",
      "  decision_function_shape='ovr', degree=3, gamma='auto', kernel='rbf',\n",
      "  max_iter=-1, probability=False, random_state=None, shrinking=True,\n",
      "  tol=0.001, verbose=False))]\n"
     ]
    }
   ],
   "source": [
    "from sklearn.pipeline import make_pipeline\n",
    "\n",
    "pipe_long = Pipeline([('scaler', MinMaxScaler()), ('svm', SVC(C=100))])  # 标准语句\n",
    "pipe_short = make_pipeline(MinMaxScaler(), SVC(C=100))  # 缩写语法\n",
    "print('pipeline steps:\\n{}'.format(pipe_short.steps))  # 查看步骤的名称"
   ]
  },
  {
   "cell_type": "code",
   "execution_count": 23,
   "metadata": {},
   "outputs": [
    {
     "name": "stdout",
     "output_type": "stream",
     "text": [
      "best score:0.9836\n",
      "test set score:0.9650\n",
      "best params:{'logisticregression__C': 0.1}\n",
      "best estimator:\n",
      "Pipeline(memory=None,\n",
      "     steps=[('standardscaler', StandardScaler(copy=True, with_mean=True, with_std=True)), ('logisticregression', LogisticRegression(C=0.1, class_weight=None, dual=False, fit_intercept=True,\n",
      "          intercept_scaling=1, max_iter=100, multi_class='ovr', n_jobs=1,\n",
      "          penalty='l2', random_state=None, solver='liblinear', tol=0.0001,\n",
      "          verbose=0, warm_start=False))])\n",
      "logisticregression named step:\n",
      "LogisticRegression(C=0.1, class_weight=None, dual=False, fit_intercept=True,\n",
      "          intercept_scaling=1, max_iter=100, multi_class='ovr', n_jobs=1,\n",
      "          penalty='l2', random_state=None, solver='liblinear', tol=0.0001,\n",
      "          verbose=0, warm_start=False)\n",
      "logisticregression coeficients:\n",
      "[[-0.34544958 -0.38444935 -0.33988553 -0.3505656  -0.16913186 -0.03157163\n",
      "  -0.32665637 -0.42678968 -0.2045492   0.16941073 -0.53273967 -0.00933038\n",
      "  -0.43498257 -0.40182175  0.07447853  0.24949134  0.0994215  -0.07708802\n",
      "   0.09495805  0.26302164 -0.49111303 -0.48321499 -0.46467249 -0.45726692\n",
      "  -0.32629663 -0.16551265 -0.37312226 -0.48736181 -0.36902284 -0.18518844]]\n"
     ]
    }
   ],
   "source": [
    "from sklearn.linear_model import LogisticRegression\n",
    "from sklearn.preprocessing import StandardScaler\n",
    "\n",
    "pipe = make_pipeline(StandardScaler(), LogisticRegression())\n",
    "param_grid = {'logisticregression__C': [0.01, 0.1, 1, 10, 100]}\n",
    "\n",
    "X_train, X_test, y_train, y_test = train_test_split(cancer.data, cancer.target, random_state=0)\n",
    "grid = GridSearchCV(pipe, param_grid, cv=5)\n",
    "grid.fit(X_train, y_train)\n",
    "print('best score:{:.4f}'.format(grid.best_score_))\n",
    "print('test set score:{:.4f}'.format(grid.score(X_test, y_test)))\n",
    "print('best params:{}'.format(grid.best_params_))\n",
    "print('best estimator:\\n{}'.format(grid.best_estimator_))\n",
    "print('logisticregression named step:\\n{}'.format(grid.best_estimator_.named_steps['logisticregression']))\n",
    "print('logisticregression coeficients:\\n{}'.format(grid.best_estimator_.named_steps['logisticregression'].coef_))"
   ]
  },
  {
   "cell_type": "code",
   "execution_count": 47,
   "metadata": {},
   "outputs": [
    {
     "data": {
      "text/plain": [
       "<matplotlib.colorbar.Colorbar at 0x2845781c358>"
      ]
     },
     "execution_count": 47,
     "metadata": {},
     "output_type": "execute_result"
    },
    {
     "data": {
      "image/png": "[encoded data removed]",
      "text/plain": [
       "<Figure size 576x288 with 2 Axes>"
      ]
     },
     "metadata": {
      "needs_background": "light"
     },
     "output_type": "display_data"
    }
   ],
   "source": [
    "from sklearn.datasets import load_boston\n",
    "from sklearn.preprocessing import PolynomialFeatures\n",
    "from sklearn.linear_model import Ridge\n",
    "\n",
    "boston = load_boston()\n",
    "X_train, X_test, y_train, y_test = train_test_split(boston.data, boston.target, random_state=0)\n",
    "\n",
    "pipe = make_pipeline(StandardScaler(), PolynomialFeatures(), Ridge())\n",
    "param_grid = {'polynomialfeatures__degree': [1, 2, 3], 'ridge__alpha': [0.001, 0.01, 0.1, 1, 10, 100]}\n",
    "grid = GridSearchCV(pipe, param_grid, cv=5)\n",
    "grid.fit(X_train, y_train)\n",
    "\n",
    "plt.matshow(grid.cv_results_['mean_test_score'].reshape(3, -1), vmin=0)\n",
    "plt.xlabel('ridge__alpha')\n",
    "plt.ylabel('polynomialfeatures__degree')\n",
    "plt.xticks(range(len(param_grid['ridge__alpha'])), param_grid['ridge__alpha'])\n",
    "plt.yticks(range(len(param_grid['polynomialfeatures__degree'])), param_grid['polynomialfeatures__degree'])\n",
    "plt.colorbar()"
   ]
  },
  {
   "cell_type": "code",
   "execution_count": 49,
   "metadata": {},
   "outputs": [
    {
     "name": "stdout",
     "output_type": "stream",
     "text": [
      "best parameters:{'polynomialfeatures__degree': 2, 'ridge__alpha': 10}\n",
      "test set score:0.7674\n"
     ]
    }
   ],
   "source": [
    "print('best parameters:{}'.format(grid.best_params_))\n",
    "print('test set score:{:.4f}'.format(grid.score(X_test, y_test)))"
   ]
  },
  {
   "cell_type": "code",
   "execution_count": 66,
   "metadata": {},
   "outputs": [
    {
     "name": "stdout",
     "output_type": "stream",
     "text": [
      "best score:0.9859\n",
      "test set score:0.9790\n",
      "best parameters:\n",
      "{'classifier': SVC(C=10, cache_size=200, class_weight=None, coef0=0.0,\n",
      "  decision_function_shape='ovr', degree=3, gamma=0.01, kernel='rbf',\n",
      "  max_iter=-1, probability=False, random_state=None, shrinking=True,\n",
      "  tol=0.001, verbose=False), 'classifier__C': 10, 'classifier__gamma': 0.01, 'preprocessing': StandardScaler(copy=True, with_mean=True, with_std=True)}\n"
     ]
    }
   ],
   "source": [
    "# 比较SVC和RandomForestClassifier\n",
    "from sklearn.ensemble import RandomForestClassifier\n",
    "\n",
    "X_train, X_test, y_train, y_test = train_test_split(cancer.data, cancer.target, random_state=0)\n",
    "\n",
    "pipe = Pipeline([('preprocessing', StandardScaler()),('classifier', SVC())])\n",
    "param_grid = [{'classifier': [SVC()], 'preprocessing': [StandardScaler()], 'classifier__C': [0.001, 0.01, 0.1, 1, 10, 100],\n",
    "               'classifier__gamma': [0.001, 0.01, 0.1, 1, 10, 100]},\n",
    "              {'classifier': [RandomForestClassifier(n_estimators=100)], 'preprocessing': [None],  # 不需要预处理就设置为None\n",
    "               'classifier__max_features': [1, 2, 3]}]\n",
    "\n",
    "grid = GridSearchCV(pipe, param_grid, cv=5)\n",
    "grid.fit(X_train, y_train)\n",
    "\n",
    "print('best score:{:.4f}'.format(grid.best_score_))\n",
    "print('test set score:{:.4f}'.format(grid.score(X_test, y_test)))\n",
    "print('best parameters:\\n{}'.format(grid.best_params_))"
   ]
  },
  {
   "cell_type": "code",
   "execution_count": 4,
   "metadata": {},
   "outputs": [
    {
     "name": "stdout",
     "output_type": "stream",
     "text": [
      "<class 'generator'>\n",
      "Full Model:我/来自/北京/清华/清华大学/华大/大学\n"
     ]
    }
   ],
   "source": [
    "import jieba\n",
    "\n",
    "# 全模式\n",
    "seg_list = jieba.cut('我来自北京清华大学', cut_all=True)  # 还有参数HMM为True或False\n",
    "print(type(seg_list))\n",
    "print('Full Model:'+ '/'.join(seg_list))"
   ]
  },
  {
   "cell_type": "code",
   "execution_count": 7,
   "metadata": {},
   "outputs": [
    {
     "name": "stdout",
     "output_type": "stream",
     "text": [
      "Default Model:我/来自/北京/清华大学\n"
     ]
    }
   ],
   "source": [
    "# 默认为精确模式\n",
    "seg_list = jieba.cut('我来自北京清华大学')  # cut_all默认为False\n",
    "print('Default Model:'+ '/'.join(seg_list))"
   ]
  },
  {
   "cell_type": "code",
   "execution_count": 8,
   "metadata": {},
   "outputs": [
    {
     "name": "stdout",
     "output_type": "stream",
     "text": [
      "我,来自,北京,清华,华大,大学,清华大学\n"
     ]
    }
   ],
   "source": [
    "# 搜索引擎模式\n",
    "seg_list = jieba.cut_for_search('我来自北京清华大学')\n",
    "print(','.join(seg_list))"
   ]
  },
  {
   "cell_type": "code",
   "execution_count": 9,
   "metadata": {},
   "outputs": [],
   "source": [
    "# 词典格式和 dict.txt 一样，一个词占一行；每一行分三部分：词语、词频（可省略）、词性（可省略），\n",
    "# 用空格隔开，顺序不可颠倒。file_name 若为路径或二进制方式打开的文件，则文件必须为 UTF-8 编码\n",
    "\n",
    "# 载入词典\n",
    "# jieba.load_userdict(file_name)  增强歧义纠错能力"
   ]
  },
  {
   "cell_type": "code",
   "execution_count": 10,
   "metadata": {},
   "outputs": [],
   "source": [
    "# 基于词频-文档逆向频率（TF-IDF）算法的关键词提取\n",
    "import jieba.analyse\n",
    "# jieba.analyse.extract_tags(sentence, topK=20, withWeight=False, allowPOS=())\n",
    "# 基于TextRank的关键词提取\n",
    "# jieba.analyse.textrank(sentence, topK=20, withWeight=False, allowPOS=())"
   ]
  },
  {
   "cell_type": "code",
   "execution_count": 21,
   "metadata": {},
   "outputs": [
    {
     "name": "stdout",
     "output_type": "stream",
     "text": [
      "我 \t r\n",
      "爱 \t v\n",
      "北京 \t ns\n",
      "天安门 \t ns\n"
     ]
    }
   ],
   "source": [
    "# 词性标注\n",
    "import jieba.posseg as pseg\n",
    "\n",
    "words = pseg.cut('我爱北京天安门')\n",
    "for word, flag in words:\n",
    "    print('%s \\t %s'% (word, flag))"
   ]
  },
  {
   "cell_type": "code",
   "execution_count": 15,
   "metadata": {},
   "outputs": [],
   "source": [
    "# 并行分词，不支持windows\n",
    "# jieba.enable_parallel(4)  开启并行分词模式，参数为并行进程数\n",
    "# jieba.disable_parallel()  关闭并行分词模式"
   ]
  },
  {
   "cell_type": "code",
   "execution_count": 20,
   "metadata": {},
   "outputs": [
    {
     "name": "stdout",
     "output_type": "stream",
     "text": [
      "<class 'generator'>\n",
      "word:永和 \t start:0 \t end:2\n",
      "word:服装 \t start:2 \t end:4\n",
      "word:饰品 \t start:4 \t end:6\n",
      "word:有限公司 \t start:6 \t end:10\n"
     ]
    }
   ],
   "source": [
    "# 返回词语在原文的起止位置\n",
    "result = jieba.tokenize(u'永和服装饰品有限公司')  # 默认模式，输入参数只接收Unicode\n",
    "print(type(result))\n",
    "for res in result:\n",
    "    print('word:%s \\t start:%s \\t end:%s' % (res[0], res[1], res[2]))"
   ]
  },
  {
   "cell_type": "code",
   "execution_count": 19,
   "metadata": {},
   "outputs": [
    {
     "name": "stdout",
     "output_type": "stream",
     "text": [
      "word:永和 \t start:0 \t end:2\n",
      "word:服装 \t start:2 \t end:4\n",
      "word:饰品 \t start:4 \t end:6\n",
      "word:有限 \t start:6 \t end:8\n",
      "word:公司 \t start:8 \t end:10\n",
      "word:有限公司 \t start:6 \t end:10\n"
     ]
    }
   ],
   "source": [
    "result = jieba.tokenize(u'永和服装饰品有限公司', mode='search')  # 搜索模式\n",
    "for res in result:\n",
    "    print('word:%s \\t start:%s \\t end:%s' % (res[0], res[1], res[2]))"
   ]
  }
 ],
 "metadata": {
  "kernelspec": {
   "display_name": "Python 3",
   "language": "python",
   "name": "python3"
  },
  "language_info": {
   "codemirror_mode": {
    "name": "ipython",
    "version": 3
   },
   "file_extension": ".py",
   "mimetype": "text/x-python",
   "name": "python",
   "nbconvert_exporter": "python",
   "pygments_lexer": "ipython3",
   "version": "3.6.7"
  }
 },
 "nbformat": 4,
 "nbformat_minor": 2
}
